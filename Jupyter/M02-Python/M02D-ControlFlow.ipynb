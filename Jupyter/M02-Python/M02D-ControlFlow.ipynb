{
  "cells": [
    {
      "cell_type": "markdown",
      "metadata": {
        "id": "pOrSBEmKBmxF"
      },
      "source": [
        "![Cloud-First](https://github.com/SiniPeter/deakinRepo/blob/develop/Jupyter/image/CloudFirst.png?raw=1) \n",
        "\n",
        "\n",
        "# SIT742: Modern Data Science\n",
        "**(Module: Python Foundations for Big Data)**\n",
        "\n",
        "---\n",
        "- Materials in this module include resources collected from various open-source online repositories.\n",
        "- You are free to use, change and distribute this package.\n",
        "- If you found any issue/bug for this document, please submit an issue at [tulip-lab/sit742](https://github.com/tulip-lab/sit742/issues)\n",
        "\n",
        "\n",
        "Prepared by **SIT742 Teaching Team**\n",
        "\n",
        "---\n",
        "\n",
        "\n",
        "## Session 2D: Control Flow\n",
        "\n",
        "Normally, \n",
        "*Python* executes a series of statement in exact top-down order. \n",
        "What if you want to change the flow how it works? \n",
        "As you might have guessed, in this prac, we will first look at **control flow**\n",
        " statements. We are going to practice on three control flow statements, i.e., \n",
        "**if**, **for** and **while**, to see how they can \n",
        "determine what statement is to be executed next in a program.  \n",
        "\n"
      ]
    },
    {
      "cell_type": "markdown",
      "metadata": {
        "id": "8rxG_XNwBmxI"
      },
      "source": [
        "## Table of Content\n",
        "\n",
        "### Control Flow\n",
        "\n",
        "1.1 [**If** statements](#cell_if)\n",
        "\n",
        "1.2 [**For** statements](#cell_for)\n",
        "\n",
        "1.3 [**While** statements](#cell_while)\n",
        "\n",
        "1.4 [**Break** statements](#cell_break)\n",
        "\n",
        "1.5 [Notes on Python 2](#cell_note)\n",
        "\n"
      ]
    },
    {
      "cell_type": "markdown",
      "metadata": {
        "id": "48mvMOLyBmxJ"
      },
      "source": [
        "## Control flow"
      ]
    },
    {
      "cell_type": "markdown",
      "metadata": {
        "id": "APgJv4VdBmxK"
      },
      "source": [
        "<a id = \"cell_if\"></a>"
      ]
    },
    {
      "cell_type": "markdown",
      "metadata": {
        "id": "Z8I-fSFrBmxL"
      },
      "source": [
        "### 1.1 **If** statements\n",
        "\n",
        "The **if** statement is used to check a condition: **if** the condition is true, we run a block of statements(**if-block**), **else** we process another block of statement(**else-block**). The **else** clause is optional. The condition is usually a boolean expression, which can have value of **True** or **False**. \n",
        "\n",
        "Often  we have a block of statement  inside  either **if-block** or **else-block**. In this case,   you need to especially pay attention to the indentation of the statements in the block. Indenting starts a block and unindenting ends it. As a general practice, Python style guide recommend using 4 white spaces for indenting a block, and not using tabs. If you get indentation error message from Python interpretor, you  will need to check your code carefully. \n",
        " "
      ]
    },
    {
      "cell_type": "code",
      "execution_count": 1,
      "metadata": {
        "colab": {
          "base_uri": "https://localhost:8080/"
        },
        "id": "pSM5441WBmxM",
        "outputId": "30101cfa-b9fe-4ff2-9987-a7db4db2eaea"
      },
      "outputs": [
        {
          "output_type": "stream",
          "name": "stdout",
          "text": [
            "15 is odd\n",
            "This is always printed\n"
          ]
        }
      ],
      "source": [
        "x = 15\n",
        "if x % 2 == 0:\n",
        "    print('%d is even' % x)\n",
        "else:\n",
        "    print('%d is odd' % x)\n",
        "    \n",
        "print('This is always printed')"
      ]
    },
    {
      "cell_type": "markdown",
      "metadata": {
        "id": "AgajrFJ_BmxP"
      },
      "source": [
        "\n",
        "Try to change **x** to even number and run the program again.\n",
        "\n",
        "The else-block  in **if** statement is optional. If  the **else** block is omitted,  the statements in **if**-block are executed when the condition equal to **True**. Otherwise, the flow of execution continues to the statement after the **if** structure. \n",
        "\n",
        "Try the following code:    "
      ]
    },
    {
      "cell_type": "code",
      "execution_count": 3,
      "metadata": {
        "colab": {
          "base_uri": "https://localhost:8080/"
        },
        "id": "IgyyRoiLBmxQ",
        "outputId": "6a28e510-7a02-4f55-c3fc-781f4cb51e2b"
      },
      "outputs": [
        {
          "output_type": "stream",
          "name": "stdout",
          "text": [
            "The negative number -2  is not valid here.\n",
            "This is always printed\n"
          ]
        }
      ],
      "source": [
        "x = -2\n",
        "if x < 0:\n",
        "    print(\"The negative number %d  is not valid here.\" % x)\n",
        "    \n",
        "print(\"This is always printed\")"
      ]
    },
    {
      "cell_type": "markdown",
      "metadata": {
        "id": "xTIXGLKlBmxT"
      },
      "source": [
        "What will be printed if  the value of **x** is negative?\n",
        "\n",
        "\n",
        "**If** statement can also be nested within another. Further **if** structure can either be nested in **if-block** or **else-block**. Here is an example with another **if** structure nested in **else-block**. \n",
        "\n",
        "This example assume we have two integer variables, **x** and **y**. The code shows how we might decide how they are related to each other."
      ]
    },
    {
      "cell_type": "code",
      "execution_count": 4,
      "metadata": {
        "colab": {
          "base_uri": "https://localhost:8080/"
        },
        "id": "1QTkRQKNBmxU",
        "outputId": "68f2393f-f2a5-47c3-cf75-34c5608cceee"
      },
      "outputs": [
        {
          "output_type": "stream",
          "name": "stdout",
          "text": [
            "x and y must be equal\n"
          ]
        }
      ],
      "source": [
        "x = 10\n",
        "y = 10\n",
        "\n",
        "if x < y:\n",
        "    print(\"x is less than y\")\n",
        "else:\n",
        "    if x > y:\n",
        "        print(\"x is greater than y\")\n",
        "    else:\n",
        "        print(\"x and y must be equal\")"
      ]
    },
    {
      "cell_type": "markdown",
      "metadata": {
        "id": "qIIckwg6Bmxa"
      },
      "source": [
        "Here we can  see that the indentation pattern can tell the Python interpretor exactly which **else** belong to which **if**.\n",
        "\n",
        "Python also provides an alternative way to write nested **if** statement. We need to use keyword **elif**. The above example is equivalent to :"
      ]
    },
    {
      "cell_type": "code",
      "execution_count": 5,
      "metadata": {
        "colab": {
          "base_uri": "https://localhost:8080/"
        },
        "id": "F8lwSvUmBmxb",
        "outputId": "497f12e7-079d-4deb-abab-990ba90bcf98"
      },
      "outputs": [
        {
          "output_type": "stream",
          "name": "stdout",
          "text": [
            "x and y must be equal\n"
          ]
        }
      ],
      "source": [
        "x = 10\n",
        "y = 10\n",
        "\n",
        "if (x < y):\n",
        "    print(\"x is less than y\")\n",
        "elif (x > y):\n",
        "    print(\"x is greater than y\")\n",
        "else:\n",
        "    print(\"x and y must be equal\")"
      ]
    },
    {
      "cell_type": "markdown",
      "metadata": {
        "id": "WmO3pOeVBmxe"
      },
      "source": [
        "**elif** is an abbreviation of **else if**. With above structure, each condition is checked in order. If one of them is **True**, the corresponding branch executes. Even if more than one condition is **True**, only the first **True** branch executes. \n",
        "\n",
        "There is no limit of the number of **elif** statements. but only a single final **else** statement is allowed. The **else** statement must be the last branch in the statement. "
      ]
    },
    {
      "cell_type": "markdown",
      "metadata": {
        "id": "bHPF8viiBmxf"
      },
      "source": [
        "<a id = \"cell_for\"></a>"
      ]
    },
    {
      "cell_type": "markdown",
      "metadata": {
        "id": "J5V62gWWBmxg"
      },
      "source": [
        "### 1.2 **For** statements\n",
        "Computers are often used to automate repetitive tasks. Repeated execution of a sequence of statements is called iteration. Two language features provided by Python are **while** and **for** statement. We first take a look an example of **for** statement:"
      ]
    },
    {
      "cell_type": "code",
      "execution_count": 6,
      "metadata": {
        "colab": {
          "base_uri": "https://localhost:8080/"
        },
        "id": "JF9gk0PpBmxh",
        "outputId": "b2f977ef-4c39-444a-aca8-c618ee2c1f00"
      },
      "outputs": [
        {
          "output_type": "stream",
          "name": "stdout",
          "text": [
            "Hi Joe Please come to my party on Saturday!\n",
            "Hi Amy Please come to my party on Saturday!\n",
            "Hi Brad Please come to my party on Saturday!\n",
            "Hi Angelina Please come to my party on Saturday!\n",
            "Hi Zuki Please come to my party on Saturday!\n"
          ]
        }
      ],
      "source": [
        "for name in [\"Joe\", \"Amy\", \"Brad\", \"Angelina\", \"Zuki\"]:\n",
        "    print(\"Hi %s Please come to my party on Saturday!\" % name)"
      ]
    },
    {
      "cell_type": "markdown",
      "metadata": {
        "id": "37f33WKrBmxn"
      },
      "source": [
        "This example assume we have some friends, and we would like to send them an invitation to our party. With all the names in the list, we can print a message for each friend. \n",
        "\n",
        "This is how the **for** statement works:\n",
        "\n",
        "1. **name** in the **for** statement is called loop variables, and the names in the square brackets is called **list** in Python. We will cover more details on list in next prac. For now, you just need to know how to use  simple list in  a **for** loop. \n",
        "\n",
        "2.  The second line in the program is the **loop body**. All the statements in the loop body is indented.\n",
        "\n",
        "3.  On each iteration  of the loop, the loop variable is updated to refer to the next item in the list. In the above case, the loop body is executed 7 times, and each time name will refer to a different friend. \n",
        "\n",
        "4. At the end of each execution of the body of the loop, Python returns to the **for** statement to handle the next items. This continues until there are no item left. Then program execution continues at the next statement after the loop body.      "
      ]
    },
    {
      "cell_type": "markdown",
      "metadata": {
        "id": "9u5fQrRnBmxo"
      },
      "source": [
        "One function commonly used in loop statement is **range()**.\n",
        "\t\n",
        "Let us first have a look at the following example:\n",
        "\t"
      ]
    },
    {
      "cell_type": "code",
      "execution_count": 7,
      "metadata": {
        "colab": {
          "base_uri": "https://localhost:8080/"
        },
        "id": "0s5lRD76Bmxp",
        "outputId": "882719a3-16cb-4897-8752-9e67ff0aa176"
      },
      "outputs": [
        {
          "output_type": "stream",
          "name": "stdout",
          "text": [
            "The count is 0\n",
            "The count is 1\n",
            "The count is 2\n",
            "The count is 3\n",
            "The count is 4\n"
          ]
        }
      ],
      "source": [
        "for i in [0, 1, 2, 3, 4 ]:\n",
        "    print( 'The count is %d' % i)"
      ]
    },
    {
      "cell_type": "markdown",
      "metadata": {
        "id": "7QhivfwyBmxr"
      },
      "source": [
        "Actually generating lists with a specific number of integers is a very common task, especially in **for** loop. For this purpose,  Python provides a built-in **range()** function to generate a sequence of values. An alternative way of performing above counting using **range()** is as follows."
      ]
    },
    {
      "cell_type": "code",
      "execution_count": 8,
      "metadata": {
        "colab": {
          "base_uri": "https://localhost:8080/"
        },
        "id": "N72li4DkBmxs",
        "outputId": "54efaaa8-1bad-4f4e-a6be-50774bbdc006"
      },
      "outputs": [
        {
          "output_type": "stream",
          "name": "stdout",
          "text": [
            "The count is 0\n",
            "The count is 1\n",
            "The count is 2\n",
            "The count is 3\n",
            "The count is 4\n",
            "Good bye!\n"
          ]
        }
      ],
      "source": [
        "for i in range(5):\n",
        "    print( 'The count is %d' % i)\n",
        "print('Good bye!')"
      ]
    },
    {
      "cell_type": "markdown",
      "metadata": {
        "id": "2dJ4XtVbBmxv"
      },
      "source": [
        "Notice **range(5)** generate a list of $5$ values starting with 0 instead 1. In addition, 5 is not included in the list. \n",
        "\t"
      ]
    },
    {
      "cell_type": "markdown",
      "metadata": {
        "id": "GBp5UBhTBmxw"
      },
      "source": [
        "Here is a note on **range()** function: a strange thing happens if you just print a range:"
      ]
    },
    {
      "cell_type": "code",
      "execution_count": 9,
      "metadata": {
        "colab": {
          "base_uri": "https://localhost:8080/"
        },
        "id": "Abz4U4-jBmxx",
        "outputId": "7a9b78c8-0eec-404e-d1c8-bb9d7e11168c"
      },
      "outputs": [
        {
          "output_type": "execute_result",
          "data": {
            "text/plain": [
              "range(0, 5)"
            ]
          },
          "metadata": {},
          "execution_count": 9
        }
      ],
      "source": [
        "range(5)"
      ]
    },
    {
      "cell_type": "code",
      "execution_count": 10,
      "metadata": {
        "colab": {
          "base_uri": "https://localhost:8080/"
        },
        "id": "BbcPEh3zBmx1",
        "outputId": "e19e9033-7d91-4d35-d75b-8fc45ef4af7b"
      },
      "outputs": [
        {
          "output_type": "stream",
          "name": "stdout",
          "text": [
            "range(0, 5)\n"
          ]
        }
      ],
      "source": [
        "print(range(5))"
      ]
    },
    {
      "cell_type": "markdown",
      "metadata": {
        "id": "SW2y7aHIBmx4"
      },
      "source": [
        "In many ways the object returned by **range()** behaves as if it is a list, but in fact it isn’t. It is an object which returns the successive items of the desired sequence when you iterate over it, but it doesn’t really make the list, thus saving space. We say such an object is *iterable*. In the following example, **rangeA** is **iterable**. \n",
        "\n",
        "There are functions and constructs that expect something from these objects to obtain successive items until the supply is exhausted. The **list()** function can be used to creates lists from iterables:"
      ]
    },
    {
      "cell_type": "code",
      "execution_count": 14,
      "metadata": {
        "colab": {
          "base_uri": "https://localhost:8080/"
        },
        "id": "oQ5qgASnBmx5",
        "outputId": "4b71ff71-944f-41e4-ded4-59621229831e"
      },
      "outputs": [
        {
          "output_type": "stream",
          "name": "stdout",
          "text": [
            "0\n",
            "1\n",
            "2\n",
            "3\n",
            "4\n"
          ]
        }
      ],
      "source": [
        "rangeA = range(5)\n",
        "new_list=list(rangeA)\n",
        "\n",
        "for i in new_list:\n",
        "  print(i)\n"
      ]
    },
    {
      "cell_type": "markdown",
      "metadata": {
        "id": "W7rrW0PEBmx8"
      },
      "source": [
        "In this way, we can print the list generated by **range(5)** to check the values closely."
      ]
    },
    {
      "cell_type": "markdown",
      "metadata": {
        "id": "75BArncGBmx9"
      },
      "source": [
        "To count from 1 to 5, we need the following:"
      ]
    },
    {
      "cell_type": "code",
      "execution_count": null,
      "metadata": {
        "id": "-c8s4yqFBmx9"
      },
      "outputs": [],
      "source": [
        "list(range(1, 6))"
      ]
    },
    {
      "cell_type": "markdown",
      "metadata": {
        "id": "ina-6XSZBmyA"
      },
      "source": [
        "\t\n",
        "We can also add another parameter, **step**, in **range()** function. For example, a step of **2** can be used to produce a list of even numbers. \n",
        "\n",
        "Look at the following example. Think about what will be the output before you run the code to check your understanding.\n",
        "\n",
        "    "
      ]
    },
    {
      "cell_type": "code",
      "execution_count": null,
      "metadata": {
        "id": "15sR2tbEBmyB"
      },
      "outputs": [],
      "source": [
        "list(range(1, 6))"
      ]
    },
    {
      "cell_type": "code",
      "execution_count": null,
      "metadata": {
        "id": "I2QNYwqLBmyE"
      },
      "outputs": [],
      "source": [
        "list(range(1, 6))"
      ]
    },
    {
      "cell_type": "code",
      "execution_count": null,
      "metadata": {
        "id": "5yGaHZgWBmyG"
      },
      "outputs": [],
      "source": [
        "list(range(0, 19, 2))"
      ]
    },
    {
      "cell_type": "code",
      "execution_count": null,
      "metadata": {
        "id": "4GAI_l42BmyJ"
      },
      "outputs": [],
      "source": [
        "list(range(0, 20, 2))"
      ]
    },
    {
      "cell_type": "code",
      "execution_count": null,
      "metadata": {
        "id": "NvtLk4FsBmyK"
      },
      "outputs": [],
      "source": [
        "list(range(10, 0, -1))"
      ]
    },
    {
      "cell_type": "markdown",
      "metadata": {
        "id": "x4kncHIyBmyM"
      },
      "source": [
        "Let us return to the previous counting example, when **range()** generate the sequence of numbers, each number is assign to the loop variable **i** in each iteration. Then the block of statements is executed for each value of **i**. In the above example, we just print the value in the block of statements. "
      ]
    },
    {
      "cell_type": "markdown",
      "metadata": {
        "id": "LBu_5KrtBmyN"
      },
      "source": [
        "<a id = \"cell_while\"></a>"
      ]
    },
    {
      "cell_type": "markdown",
      "metadata": {
        "id": "ySAgg2-5BmyO"
      },
      "source": [
        "### 1.3  **While** statements\n",
        "\n",
        "The **while** statement provide a much more general mechanism for iteration. It  allows you to repeatedly execute a block of statements as long as a condition is **True**. \n",
        "\n",
        "Similar to the **if** statement, the **while** statement uses a boolean expression to control the flow of execution. The body of **while** will be repeated as long as the condition of boolean expression equal to **True**.\n",
        "\n",
        "Let us see how the previous counting program can be implemented by **while** statement."
      ]
    },
    {
      "cell_type": "code",
      "execution_count": null,
      "metadata": {
        "id": "bIOEmdUiBmyO"
      },
      "outputs": [],
      "source": [
        "i = 0\n",
        "while (i < 6):\n",
        "    print('The count is %d' % i)\n",
        "    i = i + 1\n",
        "    \n",
        "print('Good bye!')"
      ]
    },
    {
      "cell_type": "markdown",
      "metadata": {
        "id": "5LAzdVFzBmyQ"
      },
      "source": [
        "How the while statement works:\n",
        "1. The **while** block consists of the print and increment statements. They are executed repeatedly until count is no longer less than $6$. With each iteration, the current value of the index count is displayed and then increased by $1$. \n",
        "\n",
        "2. Same as **for** loop, this type of flow is also called a loop since **while** statements is executed repeatedly. Notice that if the condition is **False** at the first time through the loop, the statement inside the loop are never executed. Try change the first line into **i = 6**. What is the output?\n",
        "\n",
        "2. In this example, we can prove that the loop terminates because **i** start from $0$ and increase by $1$. Eventually, **i** will be great than 5. When the condition becomes **False**, the loop stops. \n",
        "\t\n",
        "3. Sometime, we will have loop that repeats forever. This is called an infinite loop. Although this kind of loop might be useful sometimes, it is often caused by a programming mistake. Try to change the first two lines of previous program into  the following code. See what happen? \n",
        "\n",
        "Note that if you run the following cell, the code will run indefinitely. You will need to go to the menu: **Kernel->Restart**, and then restart the kernel.\n",
        "\n",
        "Also note that if you run such code in Python at command line or script mode, you will need to use **CTRL-C** to terminate the program."
      ]
    },
    {
      "cell_type": "code",
      "execution_count": null,
      "metadata": {
        "id": "rBPwIJ1TBmyR"
      },
      "outputs": [],
      "source": [
        "i =  6\n",
        "while i > 5 :  \n",
        "    print('The count is %d' % i)\n",
        "    i = i + 1\n",
        "    \n",
        "print('Good bye!')"
      ]
    },
    {
      "cell_type": "markdown",
      "metadata": {
        "id": "Sw9P5rAaBmyU"
      },
      "source": [
        "<a id = \"cell_break\"></a>"
      ]
    },
    {
      "cell_type": "markdown",
      "metadata": {
        "id": "zSrk7ffZBmyV"
      },
      "source": [
        "### 1.4 **Break** statements\n",
        "\n",
        "The **break** statement can be used to break out of a loop statement. It can be used both in **while** loop and **for** loop. \n",
        "\n",
        "Alternative way of previous counting example with  **break** statement is as follows:"
      ]
    },
    {
      "cell_type": "code",
      "execution_count": null,
      "metadata": {
        "id": "kCvV7yovBmyW"
      },
      "outputs": [],
      "source": [
        "i =  0\n",
        "while True :\n",
        "    print( 'The count is %d' % i)\n",
        "    i = i + 1\n",
        "    if i > 6:\n",
        "        break\n",
        "        \n",
        "print('Good bye!')\n"
      ]
    },
    {
      "cell_type": "code",
      "source": [],
      "metadata": {
        "id": "VfGw704EbwUA"
      },
      "execution_count": null,
      "outputs": []
    },
    {
      "cell_type": "markdown",
      "metadata": {
        "id": "0F_hkIdqBmya"
      },
      "source": [
        "In this program, we repeated print value  of **i** and increase it by 1 each time. We provide a special condition to stop the program by checking if **i** is greater than 6. We then break out of the loop and continue executed the statement after the loop.  \n",
        "\n",
        "Note that it is important to decide what the terminate condition should  be. We can see from previous counting example that the terminate condition might be different in different loop structure,.  "
      ]
    },
    {
      "cell_type": "code",
      "source": [],
      "metadata": {
        "id": "ZgqS31g9byE3"
      },
      "execution_count": null,
      "outputs": []
    },
    {
      "cell_type": "markdown",
      "source": [
        "Collatz Conjecture"
      ],
      "metadata": {
        "id": "Lay_WlJ9bzzH"
      }
    },
    {
      "cell_type": "code",
      "source": [
        "input_str = input('enter a number')\n",
        "\n",
        "\n"
      ],
      "metadata": {
        "id": "9jydkJ2ab1xV",
        "outputId": "b1fc5997-3307-4ca7-8c92-d672b109ad99",
        "colab": {
          "base_uri": "https://localhost:8080/",
          "height": 200
        }
      },
      "execution_count": 23,
      "outputs": [
        {
          "output_type": "error",
          "ename": "TypeError",
          "evalue": "ignored",
          "traceback": [
            "\u001b[0;31m---------------------------------------------------------------------------\u001b[0m",
            "\u001b[0;31mTypeError\u001b[0m                                 Traceback (most recent call last)",
            "\u001b[0;32m<ipython-input-23-55ea38a9fa63>\u001b[0m in \u001b[0;36m<module>\u001b[0;34m\u001b[0m\n\u001b[0;32m----> 1\u001b[0;31m \u001b[0minput_str\u001b[0m \u001b[0;34m=\u001b[0m \u001b[0minput\u001b[0m\u001b[0;34m(\u001b[0m\u001b[0;34m'enter a number'\u001b[0m\u001b[0;34m)\u001b[0m\u001b[0;34m\u001b[0m\u001b[0;34m\u001b[0m\u001b[0m\n\u001b[0m\u001b[1;32m      2\u001b[0m \u001b[0;34m\u001b[0m\u001b[0m\n\u001b[1;32m      3\u001b[0m \u001b[0;31m#input_int=int(input_str)\u001b[0m\u001b[0;34m\u001b[0m\u001b[0;34m\u001b[0m\u001b[0;34m\u001b[0m\u001b[0m\n",
            "\u001b[0;31mTypeError\u001b[0m: 'str' object is not callable"
          ]
        }
      ]
    },
    {
      "cell_type": "markdown",
      "metadata": {
        "id": "u39CNJdhBmyb"
      },
      "source": [
        "<a id = \"cell_note\"></a>"
      ]
    }
  ],
  "metadata": {
    "colab": {
      "collapsed_sections": [
        "J5V62gWWBmxg",
        "ySAgg2-5BmyO",
        "zSrk7ffZBmyV",
        "Ry-Vx12jBmyb",
        "kBsd3dhuBm0Q",
        "Posmxo-aBm0c",
        "svAgKRIMBm0l",
        "P7Te1xa1Bm0o"
      ],
      "name": "M02D-ControlFlow.ipynb",
      "provenance": [],
      "toc_visible": true
    },
    "kernelspec": {
      "display_name": "Python 3",
      "language": "python",
      "name": "python3"
    },
    "language_info": {
      "codemirror_mode": {
        "name": "ipython",
        "version": 3
      },
      "file_extension": ".py",
      "mimetype": "text/x-python",
      "name": "python",
      "nbconvert_exporter": "python",
      "pygments_lexer": "ipython3",
      "version": "3.6.4"
    }
  },
  "nbformat": 4,
  "nbformat_minor": 0
}