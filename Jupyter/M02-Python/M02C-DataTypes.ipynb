{
  "cells": [
    {
      "cell_type": "markdown",
      "metadata": {
        "id": "UP2Th8B0LLey"
      },
      "source": [
        "\n",
        "![Cloud-First](https://github.com/tulip-lab/sit742/blob/main/Jupyter/image/CloudFirst.png?raw=1) \n",
        "\n",
        "\n",
        "# SIT742: Big Data Analytics\n",
        "\n",
        "\n",
        "**(Module: Python Foundations for Big Data)**\n",
        "\n",
        "---\n",
        "- Materials in this module include resources collected from various open-source online repositories.\n",
        "- You are free to use, change and distribute this package.\n",
        "- If you found any issue/bug for this document, please submit an issue at [tulip-lab/sit742](https://github.com/tulip-lab/sit742/issues)\n",
        "\n",
        "\n",
        "Prepared by **SIT742 Teaching Team**\n",
        "\n",
        "---\n",
        "\n",
        "## Session 2C:  Basic data types\n",
        "\n",
        "1. [String](#cell_string)\n",
        "\n",
        "2. [Number](#cell_number)\n",
        "\n",
        "3. [Data conversion and comparison](#cell_conversion)\n",
        "\n",
        "4. [Input and output](#cell_input)\n"
      ]
    },
    {
      "cell_type": "markdown",
      "metadata": {
        "id": "M2sk2y0ILLfy"
      },
      "source": [
        "<a id = \"cell_close\"></a>"
      ]
    },
    {
      "cell_type": "markdown",
      "metadata": {
        "id": "rtm_f4lwLLf4"
      },
      "source": [
        "\n",
        "\n",
        "In this part,  you will get better understanding with Python's basic data type. We will \n",
        "look at **string** and **number** data type in this section. Also covered are:\n",
        "\n",
        "- Data conversion\n",
        "- Data  comparison\n",
        "- Receive  input from users and display results effectively \n",
        "\n",
        "You will be guided through  completing a simple program which receives input from a user,\n",
        " process the information, and display results with specific format. "
      ]
    },
    {
      "cell_type": "markdown",
      "metadata": {
        "id": "THnW6RPgLLf6"
      },
      "source": [
        "## 1 String\n",
        "\n",
        "A string is a *sequence of characters*. We are using strings in almost every Python\n",
        "programs. As we can seen in the **”Hello, World!”** example, strings can be specified\n",
        "using single quotes **'**. The **print()** function can be used to display a string."
      ]
    },
    {
      "cell_type": "code",
      "execution_count": 2,
      "metadata": {
        "colab": {
          "base_uri": "https://localhost:8080/"
        },
        "id": "CG-9AQrmLLf7",
        "outputId": "45a2e4c6-1c3e-4074-8cd6-a2b1283d8408"
      },
      "outputs": [
        {
          "output_type": "stream",
          "name": "stdout",
          "text": [
            "Hello, World!\n"
          ]
        }
      ],
      "source": [
        "print('Hello, World!')"
      ]
    },
    {
      "cell_type": "markdown",
      "metadata": {
        "id": "ZPKAMR6WLLgI"
      },
      "source": [
        "We can also use a variable to store the string value, and use the variable in the\n",
        "**print()** function."
      ]
    },
    {
      "cell_type": "code",
      "execution_count": 3,
      "metadata": {
        "colab": {
          "base_uri": "https://localhost:8080/"
        },
        "id": "5ZsarfIpLLgO",
        "outputId": "e2d81e66-b641-4258-dc63-698e1c21fceb"
      },
      "outputs": [
        {
          "output_type": "stream",
          "name": "stdout",
          "text": [
            "Hello, World!\n"
          ]
        }
      ],
      "source": [
        "# Assign a string to a variable \n",
        "text = 'Hello, World!'\n",
        "print(text)"
      ]
    },
    {
      "cell_type": "markdown",
      "metadata": {
        "id": "cm9IgbLyLLgU"
      },
      "source": [
        "A *variable* is basically a name that represents (or refers to) some value. We use **=**\n",
        "to assign a value to a variable before we use it. Variable names are given by a programmer\n",
        "in a way that the program is easy to understanding. Variable names are *case sensitive*.\n",
        "It can consist of letters, digits and underscores. However, it can not begin with a digit.\n",
        "For example, **plan9** and **plan_9** are valid names, where **9plan** is not."
      ]
    },
    {
      "cell_type": "code",
      "execution_count": 5,
      "metadata": {
        "id": "zilCIz-GLLga"
      },
      "outputs": [],
      "source": [
        "text = 'Hello, World!'"
      ]
    },
    {
      "cell_type": "code",
      "execution_count": null,
      "metadata": {
        "id": "cHelVR_8LLgg"
      },
      "outputs": [],
      "source": [
        "# with print() function, content is displayed without quotation mark\n",
        "print(text)"
      ]
    },
    {
      "cell_type": "markdown",
      "metadata": {
        "id": "zshg7IvZLLgp"
      },
      "source": [
        "With variables, we can also display its value without **print()** function. Note that\n",
        "you can not display a variable without **print()** function in Python script(i.e. in a **.py** file). This method only works under interactive mode (i.e. in the notebook).  "
      ]
    },
    {
      "cell_type": "code",
      "execution_count": 6,
      "metadata": {
        "colab": {
          "base_uri": "https://localhost:8080/",
          "height": 35
        },
        "id": "A8eOiupBLLgq",
        "outputId": "e9577311-c8ca-43f8-83df-3c8f142466ce"
      },
      "outputs": [
        {
          "output_type": "execute_result",
          "data": {
            "text/plain": [
              "'Hello, World!'"
            ],
            "application/vnd.google.colaboratory.intrinsic+json": {
              "type": "string"
            }
          },
          "metadata": {},
          "execution_count": 6
        }
      ],
      "source": [
        "# without print() function, quotation mark is displayed together with content\n",
        "text "
      ]
    },
    {
      "cell_type": "markdown",
      "metadata": {
        "id": "grJ6X6aMLLg8"
      },
      "source": [
        "Back to representation of string, there will be issues if you need to include a quotation\n",
        "mark in the text.\n",
        "We provide a example use a apostrophe mark(’) similar with single quotation mark(').\n",
        "You will find that it will show \"SyntaxError: invalid character in identifier\". Just try to change the apostrophe mark with single quotation mark and run it again."
      ]
    },
    {
      "cell_type": "code",
      "execution_count": 7,
      "metadata": {
        "colab": {
          "base_uri": "https://localhost:8080/",
          "height": 130
        },
        "id": "QcxK0VgBLLg9",
        "outputId": "462551eb-9215-47f2-a882-da6bc8f7815e"
      },
      "outputs": [
        {
          "output_type": "error",
          "ename": "SyntaxError",
          "evalue": "ignored",
          "traceback": [
            "\u001b[0;36m  File \u001b[0;32m\"<ipython-input-7-1d543ff1b17c>\"\u001b[0;36m, line \u001b[0;32m1\u001b[0m\n\u001b[0;31m    text = ’What’ s your name ’\u001b[0m\n\u001b[0m                ^\u001b[0m\n\u001b[0;31mSyntaxError\u001b[0m\u001b[0;31m:\u001b[0m invalid character in identifier\n"
          ]
        }
      ],
      "source": [
        "text = ’What’ s your name ’"
      ]
    },
    {
      "cell_type": "markdown",
      "metadata": {
        "id": "HHs3pOo7ummI"
      },
      "source": [
        "<details><summary><u><b><font color=\"Blue\">Click here for solution</u></b></summary>\n",
        "```python\n",
        "    text = ' What\\'s your name?'\n",
        "    print(text)\n",
        "```\n",
        "</details>"
      ]
    },
    {
      "cell_type": "markdown",
      "metadata": {
        "id": "W3vLIE_bLLhC"
      },
      "source": [
        "Since strings in double quotes **\"** work exactly the same way as string in single quotes.\n",
        "By mixing the two types, it is easy to include quotation mark itself in the text."
      ]
    },
    {
      "cell_type": "code",
      "execution_count": null,
      "metadata": {
        "id": "kcq185ULLLhD"
      },
      "outputs": [],
      "source": [
        "text = \"What' s your name?\"\n",
        "print(text)"
      ]
    },
    {
      "cell_type": "markdown",
      "metadata": {
        "id": "ncHDozPILLhI"
      },
      "source": [
        "Alternatively, you can use:"
      ]
    },
    {
      "cell_type": "code",
      "execution_count": 8,
      "metadata": {
        "colab": {
          "base_uri": "https://localhost:8080/"
        },
        "id": "X-DGDDQaLLhI",
        "outputId": "889bc207-60dc-47dd-c202-75152212fe0d"
      },
      "outputs": [
        {
          "output_type": "stream",
          "name": "stdout",
          "text": [
            "\"What is the problem?\", he asked.\n"
          ]
        }
      ],
      "source": [
        "text = '\"What is the problem?\", he asked.'\n",
        "print(text)"
      ]
    },
    {
      "cell_type": "markdown",
      "metadata": {
        "id": "bwoz8VV2LLhS"
      },
      "source": [
        "You can specify multi-line strings using triple quotes  (**\"\"\"** or **'''**). In this way, single\n",
        "quotes and double quotes can be used freely in the text.\n",
        "Here is one example:"
      ]
    },
    {
      "cell_type": "code",
      "execution_count": 9,
      "metadata": {
        "colab": {
          "base_uri": "https://localhost:8080/"
        },
        "id": "q1mgdutELLhU",
        "outputId": "5bd3dc67-5ebe-4392-fa7a-9414f25cee07"
      },
      "outputs": [
        {
          "output_type": "stream",
          "name": "stdout",
          "text": [
            "This is a test for multiline. This is the first line. \n",
            "This is the second line. \n",
            "I asked, \"What's your name?\"\n"
          ]
        }
      ],
      "source": [
        "multiline = '''This is a test for multiline. This is the first line. \n",
        "This is the second line. \n",
        "I asked, \"What's your name?\"'''\n",
        "print(multiline)"
      ]
    },
    {
      "cell_type": "markdown",
      "metadata": {
        "id": "i5Kx0MKLLLhZ"
      },
      "source": [
        "Notice the difference when the variable is displayed without **print()** function in this case."
      ]
    },
    {
      "cell_type": "code",
      "execution_count": 10,
      "metadata": {
        "colab": {
          "base_uri": "https://localhost:8080/",
          "height": 35
        },
        "id": "5j7kVvnnLLhd",
        "outputId": "f9496083-9b0f-4e72-c9b1-2d3d184e5bd5"
      },
      "outputs": [
        {
          "output_type": "execute_result",
          "data": {
            "text/plain": [
              "'This is a test for multiline. This is the first line. \\nThis is the second line. \\nI asked, \"What\\'s your name?\"'"
            ],
            "application/vnd.google.colaboratory.intrinsic+json": {
              "type": "string"
            }
          },
          "metadata": {},
          "execution_count": 10
        }
      ],
      "source": [
        "multiline = '''This is a test for multiline. This is the first line. \n",
        "This is the second line. \n",
        "I asked, \"What's your name?\"'''\n",
        "multiline"
      ]
    },
    {
      "cell_type": "markdown",
      "metadata": {
        "id": "glnQnKz6LLhi"
      },
      "source": [
        "Another way of include the special characters, such as single quotes is with help of\n",
        "escape sequences **\\\\**. For example, you can specify the single quote using **\\\\' ** as follows."
      ]
    },
    {
      "cell_type": "code",
      "execution_count": 11,
      "metadata": {
        "colab": {
          "base_uri": "https://localhost:8080/"
        },
        "id": "DC97cQs2LLhj",
        "outputId": "1bfd830b-1f5c-45ee-fccd-d89a7377884a"
      },
      "outputs": [
        {
          "output_type": "stream",
          "name": "stdout",
          "text": [
            "What's your name?\n"
          ]
        }
      ],
      "source": [
        "string = 'What\\'s your name?'\n",
        "print(string)"
      ]
    },
    {
      "cell_type": "markdown",
      "metadata": {
        "id": "kp8W43nnLLhv"
      },
      "source": [
        "There are many more other escape sequences (See Section 2.4.1 in [Python3.0 official document](https://docs.python.org/3.1/reference/lexical_analysis.html)). But I am going to mention the most useful two examples here. \n",
        "\n",
        "First, use escape sequences to indicate the backslash itself e.g. **\\\\\\\\**"
      ]
    },
    {
      "cell_type": "code",
      "execution_count": 12,
      "metadata": {
        "colab": {
          "base_uri": "https://localhost:8080/"
        },
        "id": "U5PUlblFLLh3",
        "outputId": "8a103fb8-f0ef-45d7-b585-fdbdd5d3fd11"
      },
      "outputs": [
        {
          "output_type": "stream",
          "name": "stdout",
          "text": [
            "c:\\windows\\temp\n"
          ]
        }
      ],
      "source": [
        "path = 'c:\\\\windows\\\\temp'\n",
        "print(path)"
      ]
    },
    {
      "cell_type": "markdown",
      "metadata": {
        "id": "cm0OdobTLLh9"
      },
      "source": [
        "Second,  used escape sequences to specify a two-line string. Apart from using a triple-quoted\n",
        "string as shown previously, you can use **\\n** to indicate the start of a new line."
      ]
    },
    {
      "cell_type": "code",
      "execution_count": 13,
      "metadata": {
        "colab": {
          "base_uri": "https://localhost:8080/"
        },
        "id": "6Hx7whpWLLh9",
        "outputId": "08c76042-3bff-405b-c33a-c83fd2ef7038"
      },
      "outputs": [
        {
          "output_type": "stream",
          "name": "stdout",
          "text": [
            "This is a test for multiline. This is the first line.\n",
            "This is the second line.\n"
          ]
        }
      ],
      "source": [
        "multiline = 'This is a test for multiline. This is the first line.\\nThis is the second line.'\n",
        "print(multiline)"
      ]
    },
    {
      "cell_type": "markdown",
      "metadata": {
        "id": "SxYdplr7LLiB"
      },
      "source": [
        "To manipulate strings, the following two operators are most useful: \n",
        "* ** + ** is use to concatenate two strings or string variables; \n",
        "* ** * ** is used for concatenating several copies of the same string."
      ]
    },
    {
      "cell_type": "code",
      "execution_count": 14,
      "metadata": {
        "colab": {
          "base_uri": "https://localhost:8080/"
        },
        "id": "atOH5kwTLLiC",
        "outputId": "422ecc13-7ff8-4949-f48d-54ddda796eb6"
      },
      "outputs": [
        {
          "output_type": "stream",
          "name": "stdout",
          "text": [
            "Hello, WorldWorldWorld\n"
          ]
        }
      ],
      "source": [
        "print('Hello, ' + 'World' * 3)"
      ]
    },
    {
      "cell_type": "markdown",
      "metadata": {
        "id": "3e2FhseULLiE"
      },
      "source": [
        "Below is another example of string concatenation based on  variables that store strings."
      ]
    },
    {
      "cell_type": "code",
      "execution_count": 15,
      "metadata": {
        "colab": {
          "base_uri": "https://localhost:8080/"
        },
        "id": "b4rw4CjPLLiG",
        "outputId": "6a71287b-26be-4a77-e7f7-2c9982de3e69"
      },
      "outputs": [
        {
          "output_type": "stream",
          "name": "stdout",
          "text": [
            "Hello, World!\n"
          ]
        }
      ],
      "source": [
        "name = 'World'\n",
        "greeting = 'Hello'\n",
        "print(greeting + ', ' + name + '!')"
      ]
    },
    {
      "cell_type": "markdown",
      "metadata": {
        "id": "ggn2lPQMLLiJ"
      },
      "source": [
        "Using variables, change part of the string text is very easy. "
      ]
    },
    {
      "cell_type": "code",
      "execution_count": 16,
      "metadata": {
        "colab": {
          "base_uri": "https://localhost:8080/",
          "height": 35
        },
        "id": "i0jfd08dLLiK",
        "outputId": "91708de7-adb8-4526-93d7-5e175e35ca32"
      },
      "outputs": [
        {
          "output_type": "execute_result",
          "data": {
            "text/plain": [
              "'World'"
            ],
            "application/vnd.google.colaboratory.intrinsic+json": {
              "type": "string"
            }
          },
          "metadata": {},
          "execution_count": 16
        }
      ],
      "source": [
        "name"
      ]
    },
    {
      "cell_type": "code",
      "execution_count": 17,
      "metadata": {
        "colab": {
          "base_uri": "https://localhost:8080/",
          "height": 35
        },
        "id": "gDymwzHmLLiN",
        "outputId": "2f94041f-5c8b-4073-a567-905148ce8109"
      },
      "outputs": [
        {
          "output_type": "execute_result",
          "data": {
            "text/plain": [
              "'Hello'"
            ],
            "application/vnd.google.colaboratory.intrinsic+json": {
              "type": "string"
            }
          },
          "metadata": {},
          "execution_count": 17
        }
      ],
      "source": [
        "greeting"
      ]
    },
    {
      "cell_type": "code",
      "execution_count": 18,
      "metadata": {
        "colab": {
          "base_uri": "https://localhost:8080/"
        },
        "id": "-xdxHvZlLLiQ",
        "outputId": "88759cda-c92b-493c-c58f-ce623163a078"
      },
      "outputs": [
        {
          "output_type": "stream",
          "name": "stdout",
          "text": [
            "Good morning, World!\n"
          ]
        }
      ],
      "source": [
        "# Change part of the text is easy\n",
        "greeting = 'Good morning' \n",
        "print(greeting + ', ' + name + '!')"
      ]
    },
    {
      "cell_type": "markdown",
      "metadata": {
        "id": "aUcMPHTMLLiS"
      },
      "source": [
        " ## 2 Number"
      ]
    },
    {
      "cell_type": "markdown",
      "metadata": {
        "id": "NTaPssJ_LLiT"
      },
      "source": [
        "There are two types of numbers that are used most frequently: integers and floats. As we\n",
        "expect, the standard mathematical operation can be applied to these two types. Please\n",
        "try the following expressions. Note that **\\*\\*** is exponent operator, which indicates\n",
        "exponentiation exponential(power) calculation."
      ]
    },
    {
      "cell_type": "code",
      "execution_count": 19,
      "metadata": {
        "colab": {
          "base_uri": "https://localhost:8080/"
        },
        "id": "4bJEQg_MLLiU",
        "outputId": "7ee1de52-164b-432f-b3f6-c3db63ef8ab4"
      },
      "outputs": [
        {
          "output_type": "execute_result",
          "data": {
            "text/plain": [
              "5"
            ]
          },
          "metadata": {},
          "execution_count": 19
        }
      ],
      "source": [
        "2 + 3"
      ]
    },
    {
      "cell_type": "code",
      "execution_count": 20,
      "metadata": {
        "colab": {
          "base_uri": "https://localhost:8080/"
        },
        "id": "p6bV4vC9LLiX",
        "outputId": "d19ce2f3-5762-44db-9222-e6039bf26fd5"
      },
      "outputs": [
        {
          "output_type": "execute_result",
          "data": {
            "text/plain": [
              "15"
            ]
          },
          "metadata": {},
          "execution_count": 20
        }
      ],
      "source": [
        "3 * 5"
      ]
    },
    {
      "cell_type": "code",
      "execution_count": 21,
      "metadata": {
        "colab": {
          "base_uri": "https://localhost:8080/"
        },
        "id": "-Rs_u_qnLLia",
        "outputId": "0f47f661-398f-4a72-a7c7-0de8c2124881"
      },
      "outputs": [
        {
          "output_type": "execute_result",
          "data": {
            "text/plain": [
              "81"
            ]
          },
          "metadata": {},
          "execution_count": 21
        }
      ],
      "source": [
        "#3 to the power of 4\n",
        "3 ** 4 "
      ]
    },
    {
      "cell_type": "markdown",
      "metadata": {
        "id": "XTDUWNsPLLie"
      },
      "source": [
        "Among the number operations, we need to look at division closely. In Python 3.0, classic division is performed using  **/**. "
      ]
    },
    {
      "cell_type": "code",
      "execution_count": 22,
      "metadata": {
        "colab": {
          "base_uri": "https://localhost:8080/"
        },
        "id": "l5ee7L9mLLif",
        "outputId": "9dc48f7d-9e14-4c0d-e657-910e77f11547"
      },
      "outputs": [
        {
          "output_type": "execute_result",
          "data": {
            "text/plain": [
              "3.0"
            ]
          },
          "metadata": {},
          "execution_count": 22
        }
      ],
      "source": [
        "15 / 5"
      ]
    },
    {
      "cell_type": "code",
      "execution_count": 23,
      "metadata": {
        "colab": {
          "base_uri": "https://localhost:8080/"
        },
        "id": "ZtobUWNcLLij",
        "outputId": "33eb34d4-89ae-4cab-e1a8-ce09480d68e2"
      },
      "outputs": [
        {
          "output_type": "execute_result",
          "data": {
            "text/plain": [
              "2.8"
            ]
          },
          "metadata": {},
          "execution_count": 23
        }
      ],
      "source": [
        "14 / 5"
      ]
    },
    {
      "cell_type": "markdown",
      "metadata": {
        "id": "6ID6qNctLLil"
      },
      "source": [
        "*//* is used to perform floor division. It truncates the fraction and rounds it to the next smallest whole number toward the left on the number line."
      ]
    },
    {
      "cell_type": "code",
      "execution_count": 24,
      "metadata": {
        "colab": {
          "base_uri": "https://localhost:8080/"
        },
        "id": "hT18fhA8LLim",
        "outputId": "1a7580dd-999e-4fc5-b459-78758898f228"
      },
      "outputs": [
        {
          "output_type": "execute_result",
          "data": {
            "text/plain": [
              "2"
            ]
          },
          "metadata": {},
          "execution_count": 24
        }
      ],
      "source": [
        "14 // 5"
      ]
    },
    {
      "cell_type": "code",
      "execution_count": 25,
      "metadata": {
        "colab": {
          "base_uri": "https://localhost:8080/"
        },
        "id": "Jj02iHTpLLip",
        "outputId": "18cef630-6e6e-4db0-f96f-4d22c6fb32ea"
      },
      "outputs": [
        {
          "output_type": "execute_result",
          "data": {
            "text/plain": [
              "-3"
            ]
          },
          "metadata": {},
          "execution_count": 25
        }
      ],
      "source": [
        "# Negatives move left on number line. The result is -3 instead of  -2\n",
        "-14 // 5 "
      ]
    },
    {
      "cell_type": "markdown",
      "metadata": {
        "id": "Z-YaXqCSLLir"
      },
      "source": [
        "Modulus operator **%** can be used to obtain remainder. Pay attention when negative number is involved."
      ]
    },
    {
      "cell_type": "code",
      "execution_count": 26,
      "metadata": {
        "colab": {
          "base_uri": "https://localhost:8080/"
        },
        "id": "WIZ3IGCILLis",
        "outputId": "6ede277e-0639-4d7b-ba39-1bd78c59697f"
      },
      "outputs": [
        {
          "output_type": "execute_result",
          "data": {
            "text/plain": [
              "4"
            ]
          },
          "metadata": {},
          "execution_count": 26
        }
      ],
      "source": [
        "14 % 5"
      ]
    },
    {
      "cell_type": "code",
      "execution_count": 27,
      "metadata": {
        "colab": {
          "base_uri": "https://localhost:8080/"
        },
        "id": "4Ao-du3_LLix",
        "outputId": "6b181626-3eae-4f62-a742-aa2e615e62ac"
      },
      "outputs": [
        {
          "output_type": "execute_result",
          "data": {
            "text/plain": [
              "1"
            ]
          },
          "metadata": {},
          "execution_count": 27
        }
      ],
      "source": [
        "# Hint:  −14 // 5 equal to −3\n",
        "#        (-3) * 5 +  ? = -14\n",
        "\n",
        "-14 % 5 "
      ]
    },
    {
      "cell_type": "markdown",
      "metadata": {
        "id": "I0sASGehLLiz"
      },
      "source": [
        "*Operator precedence* is a rule that affects how an expression is evaluated. As we learned in high school, the multiplication is done first than the addition. e.g. **2 + 3 * 4**. This means multiplication operator has higher precedence than the addition operator.\n",
        "\n",
        "For your reference, a precedence table from the python reference manual is used to indicate the evaluation order in Python.  For a complete precedence table, check the heading \"Python Operators Precedence\" in this [Python tutorial](http://www.tutorialspoint.com/python/python_basic_operators.htm)\n",
        "\n",
        "\n",
        "However, When things get confused, it is far better to use parentheses **()** to explicitly\n",
        "specify the precedence. This makes the program more readable.\n",
        "\n",
        "Here are some examples on operator precedence:"
      ]
    },
    {
      "cell_type": "code",
      "execution_count": null,
      "metadata": {
        "id": "Q8-htgKSLLi0"
      },
      "outputs": [],
      "source": [
        "2 + 3 * 4"
      ]
    },
    {
      "cell_type": "code",
      "execution_count": null,
      "metadata": {
        "id": "MTstkwWoLLi2"
      },
      "outputs": [],
      "source": [
        "(2 + 3) * 4"
      ]
    },
    {
      "cell_type": "code",
      "execution_count": null,
      "metadata": {
        "id": "X5zqw9gQLLi6"
      },
      "outputs": [],
      "source": [
        "2 + 3 ** 2"
      ]
    },
    {
      "cell_type": "code",
      "execution_count": null,
      "metadata": {
        "id": "2J5jmyrALLi8"
      },
      "outputs": [],
      "source": [
        "(2 + 3) ** 2"
      ]
    },
    {
      "cell_type": "code",
      "execution_count": null,
      "metadata": {
        "id": "4c0ohRKmLLi-"
      },
      "outputs": [],
      "source": [
        "-(4+3)+2"
      ]
    },
    {
      "cell_type": "markdown",
      "metadata": {
        "id": "6QklYZFXLLjB"
      },
      "source": [
        "Similarly as string, variables can be used to store a number so that it is easy to manipulate them."
      ]
    },
    {
      "cell_type": "code",
      "execution_count": null,
      "metadata": {
        "id": "TsmyIIe0LLjC"
      },
      "outputs": [],
      "source": [
        "x = 3\n",
        "y = 2\n",
        "x + 2"
      ]
    },
    {
      "cell_type": "code",
      "execution_count": null,
      "metadata": {
        "id": "joZHkCbELLjJ"
      },
      "outputs": [],
      "source": [
        "sum = x + y\n",
        "sum"
      ]
    },
    {
      "cell_type": "code",
      "execution_count": null,
      "metadata": {
        "id": "2lzP8lYMLLjU"
      },
      "outputs": [],
      "source": [
        "x * y"
      ]
    },
    {
      "cell_type": "markdown",
      "metadata": {
        "id": "1gsMSLAgLLjW"
      },
      "source": [
        "One common expression is to run a math operation on a variable and then assign the result of the operation back to the variable. Therefore, there is a shortcut for such a expression. "
      ]
    },
    {
      "cell_type": "code",
      "execution_count": null,
      "metadata": {
        "id": "D1hxyg1mLLjX"
      },
      "outputs": [],
      "source": [
        "x = 2\n",
        "x = x * 3\n",
        "x"
      ]
    },
    {
      "cell_type": "markdown",
      "metadata": {
        "id": "M5b_TPipLLjZ"
      },
      "source": [
        "This is equivalent to:"
      ]
    },
    {
      "cell_type": "code",
      "execution_count": null,
      "metadata": {
        "id": "Qb0BdkZ9LLja"
      },
      "outputs": [],
      "source": [
        "x = 2\n",
        "# Note there is no space between '*' and '+'\n",
        "x *= 3\n",
        "x"
      ]
    },
    {
      "cell_type": "markdown",
      "metadata": {
        "id": "Mk39mzf8LLjd"
      },
      "source": [
        "## 3 Data conversion and comparison"
      ]
    },
    {
      "cell_type": "markdown",
      "metadata": {
        "id": "DI609niBLLje"
      },
      "source": [
        "So far, we have seen three types of data: integer, float, and string. With various data type, Python can define the operations possible on them and the storage method for each of them. In the later pracs, we will further introduce more data types, such as tuple, list and dictionary. \n",
        "\n",
        "To obtain the data type of a variable or a value, we can use built-in function **type()**;\n",
        "whereas functions, such as **str()**, **int()**, **float()**, are used to convert data one  type to another. Check the following examples on the usage of these functions:"
      ]
    },
    {
      "cell_type": "code",
      "execution_count": 29,
      "metadata": {
        "colab": {
          "base_uri": "https://localhost:8080/"
        },
        "id": "V62kYzxKLLjf",
        "outputId": "0dd65bf3-5caf-4fe9-abf7-3ab483babe6f"
      },
      "outputs": [
        {
          "output_type": "execute_result",
          "data": {
            "text/plain": [
              "str"
            ]
          },
          "metadata": {},
          "execution_count": 29
        }
      ],
      "source": [
        "type('Hello, world!)')"
      ]
    },
    {
      "cell_type": "code",
      "execution_count": 30,
      "metadata": {
        "colab": {
          "base_uri": "https://localhost:8080/"
        },
        "id": "Boe-ivfiLLjh",
        "outputId": "095cd5c0-b9a5-441e-932c-a2ce6f30db12"
      },
      "outputs": [
        {
          "output_type": "execute_result",
          "data": {
            "text/plain": [
              "str"
            ]
          },
          "metadata": {},
          "execution_count": 30
        }
      ],
      "source": [
        "input_Value = '45.6'\n",
        "type(input_Value)"
      ]
    },
    {
      "cell_type": "code",
      "execution_count": 31,
      "metadata": {
        "colab": {
          "base_uri": "https://localhost:8080/"
        },
        "id": "4wGHArWZLLji",
        "outputId": "d712d0a2-44c7-49fb-aa99-6929215397b7"
      },
      "outputs": [
        {
          "output_type": "execute_result",
          "data": {
            "text/plain": [
              "float"
            ]
          },
          "metadata": {},
          "execution_count": 31
        }
      ],
      "source": [
        "weight = float(input_Value)\n",
        "weight\n",
        "type(weight)"
      ]
    },
    {
      "cell_type": "markdown",
      "metadata": {
        "id": "T7mJiYNiLLjk"
      },
      "source": [
        "Note the system will report error message when the conversion function is not compatible with the data."
      ]
    },
    {
      "cell_type": "code",
      "execution_count": 32,
      "metadata": {
        "colab": {
          "base_uri": "https://localhost:8080/",
          "height": 183
        },
        "id": "i9bnxwLRLLjk",
        "outputId": "49199546-32e4-45ea-96bb-7aa074525c41"
      },
      "outputs": [
        {
          "output_type": "error",
          "ename": "ValueError",
          "evalue": "ignored",
          "traceback": [
            "\u001b[0;31m---------------------------------------------------------------------------\u001b[0m",
            "\u001b[0;31mValueError\u001b[0m                                Traceback (most recent call last)",
            "\u001b[0;32m<ipython-input-32-d2e5d8c88ee0>\u001b[0m in \u001b[0;36m<module>\u001b[0;34m\u001b[0m\n\u001b[1;32m      1\u001b[0m \u001b[0minput_Value\u001b[0m \u001b[0;34m=\u001b[0m \u001b[0;34m'David'\u001b[0m\u001b[0;34m\u001b[0m\u001b[0;34m\u001b[0m\u001b[0m\n\u001b[0;32m----> 2\u001b[0;31m \u001b[0mweight\u001b[0m \u001b[0;34m=\u001b[0m \u001b[0mfloat\u001b[0m\u001b[0;34m(\u001b[0m\u001b[0minput_Value\u001b[0m\u001b[0;34m)\u001b[0m\u001b[0;34m\u001b[0m\u001b[0;34m\u001b[0m\u001b[0m\n\u001b[0m",
            "\u001b[0;31mValueError\u001b[0m: could not convert string to float: 'David'"
          ]
        }
      ],
      "source": [
        "input_Value = 'David'\n",
        "weight = float(input_Value)"
      ]
    },
    {
      "cell_type": "markdown",
      "metadata": {
        "id": "s_NS6zzbLLjl"
      },
      "source": [
        "Comparison between two values can help make decision in a program. The result of the comparison is either **True** or **False**. They are the two values of *Boolean* type."
      ]
    },
    {
      "cell_type": "code",
      "execution_count": 34,
      "metadata": {
        "colab": {
          "base_uri": "https://localhost:8080/"
        },
        "id": "hpz8oajsLLjp",
        "outputId": "3230908e-4e32-4630-d64b-5d035c21e708"
      },
      "outputs": [
        {
          "output_type": "execute_result",
          "data": {
            "text/plain": [
              "False"
            ]
          },
          "metadata": {},
          "execution_count": 34
        }
      ],
      "source": [
        "5 > 10"
      ]
    },
    {
      "cell_type": "code",
      "execution_count": 33,
      "metadata": {
        "colab": {
          "base_uri": "https://localhost:8080/"
        },
        "id": "vZnUQd69LLjx",
        "outputId": "4c9000f1-9d10-44b9-cb32-baa1f5cb4070"
      },
      "outputs": [
        {
          "output_type": "execute_result",
          "data": {
            "text/plain": [
              "bool"
            ]
          },
          "metadata": {},
          "execution_count": 33
        }
      ],
      "source": [
        "type(5 > 10)"
      ]
    },
    {
      "cell_type": "code",
      "execution_count": 35,
      "metadata": {
        "colab": {
          "base_uri": "https://localhost:8080/"
        },
        "id": "Zfw9EfrqLLj0",
        "outputId": "95f82da6-6b02-4987-9726-1d1863223a49"
      },
      "outputs": [
        {
          "output_type": "execute_result",
          "data": {
            "text/plain": [
              "True"
            ]
          },
          "metadata": {},
          "execution_count": 35
        }
      ],
      "source": [
        "# Double equal sign is also used for comparison\n",
        "10.0 == 10"
      ]
    },
    {
      "cell_type": "markdown",
      "metadata": {
        "id": "_rZvY3UlLLj1"
      },
      "source": [
        "Check the following examples on comparison of two strings."
      ]
    },
    {
      "cell_type": "code",
      "execution_count": 36,
      "metadata": {
        "colab": {
          "base_uri": "https://localhost:8080/"
        },
        "id": "l4dFT7CYLLj1",
        "outputId": "028bcb02-7860-464a-8671-b5a3a84fd114"
      },
      "outputs": [
        {
          "output_type": "execute_result",
          "data": {
            "text/plain": [
              "True"
            ]
          },
          "metadata": {},
          "execution_count": 36
        }
      ],
      "source": [
        "'cat' < 'dog'"
      ]
    },
    {
      "cell_type": "code",
      "execution_count": 37,
      "metadata": {
        "colab": {
          "base_uri": "https://localhost:8080/"
        },
        "id": "EzfdIp6XLLj3",
        "outputId": "d502ec10-4813-4f38-9d48-f4ff5b3ef4fc"
      },
      "outputs": [
        {
          "output_type": "execute_result",
          "data": {
            "text/plain": [
              "False"
            ]
          },
          "metadata": {},
          "execution_count": 37
        }
      ],
      "source": [
        "# All uppercases are smaller than low cases in terms of ASCII code. It will compare each character from the beginning to the end between two words based on their ACSII code value.\n",
        "'cat' < 'Dog'"
      ]
    },
    {
      "cell_type": "code",
      "execution_count": 38,
      "metadata": {
        "colab": {
          "base_uri": "https://localhost:8080/"
        },
        "id": "s88N5oeRLLj4",
        "outputId": "43ac55aa-5404-4458-813f-fd8ff687311f"
      },
      "outputs": [
        {
          "output_type": "execute_result",
          "data": {
            "text/plain": [
              "True"
            ]
          },
          "metadata": {},
          "execution_count": 38
        }
      ],
      "source": [
        "'apple' < 'apricot'"
      ]
    },
    {
      "cell_type": "markdown",
      "metadata": {
        "id": "SRn9iUKrLLj8"
      },
      "source": [
        "There are three logical operators, *not*, *and* and *or*, which can  be applied to the boolean values. "
      ]
    },
    {
      "cell_type": "code",
      "execution_count": 39,
      "metadata": {
        "colab": {
          "base_uri": "https://localhost:8080/"
        },
        "id": "TJOHXNYOLLj8",
        "outputId": "8c728af2-f3b0-406a-a8f1-9f8452e432da"
      },
      "outputs": [
        {
          "output_type": "execute_result",
          "data": {
            "text/plain": [
              "True"
            ]
          },
          "metadata": {},
          "execution_count": 39
        }
      ],
      "source": [
        "# Both condition #1 and condition #2 are True?\n",
        "3 < 4  and 7 < 8"
      ]
    },
    {
      "cell_type": "code",
      "execution_count": 40,
      "metadata": {
        "colab": {
          "base_uri": "https://localhost:8080/"
        },
        "id": "e3678xUuLLj9",
        "outputId": "5fe93b5d-3514-43bf-e0a8-7aa57131f180"
      },
      "outputs": [
        {
          "output_type": "execute_result",
          "data": {
            "text/plain": [
              "True"
            ]
          },
          "metadata": {},
          "execution_count": 40
        }
      ],
      "source": [
        "# Either condition 1 or condition 2 are True?\n",
        "3 < 4  or 7 > 8"
      ]
    },
    {
      "cell_type": "code",
      "execution_count": 41,
      "metadata": {
        "colab": {
          "base_uri": "https://localhost:8080/"
        },
        "id": "AgVnOhigLLj-",
        "outputId": "6b0d2b9d-5248-4c6c-9dfe-367b036695e2"
      },
      "outputs": [
        {
          "output_type": "execute_result",
          "data": {
            "text/plain": [
              "True"
            ]
          },
          "metadata": {},
          "execution_count": 41
        }
      ],
      "source": [
        "# Both conditional #1 and conditional #2 are False?\n",
        "not ((3 > 4) or (7 > 8))"
      ]
    },
    {
      "cell_type": "markdown",
      "metadata": {
        "id": "B3ClkWDGLLkG"
      },
      "source": [
        "## 4. Input and output"
      ]
    },
    {
      "cell_type": "markdown",
      "metadata": {
        "id": "DWqLiEZ1LLkH"
      },
      "source": [
        "All programming languages provide features to interact with user. Python provide *input()* function to get input. It waits for the user to type some input and press return. We can add some information for the user by putting a message inside the function's brackets. It must be a string or a string variable. The text that was typed can be saved in a variable. Here is one example:"
      ]
    },
    {
      "cell_type": "code",
      "execution_count": 42,
      "metadata": {
        "colab": {
          "base_uri": "https://localhost:8080/"
        },
        "id": "uotQ6pd8LLkH",
        "outputId": "247b7391-33f6-4606-ea75-1e70c89941e3"
      },
      "outputs": [
        {
          "name": "stdout",
          "output_type": "stream",
          "text": [
            "Enter your number here:\n",
            "d\n"
          ]
        }
      ],
      "source": [
        "nInput  = input('Enter your number here:\\n')"
      ]
    },
    {
      "cell_type": "code",
      "source": [],
      "metadata": {
        "id": "_suWfa6UT32c"
      },
      "execution_count": null,
      "outputs": []
    },
    {
      "cell_type": "markdown",
      "metadata": {
        "id": "jhMpU6dfLLkJ"
      },
      "source": [
        "However, be aware that the input received from the user are treated as a string, even\n",
        "though a user entered a number. The following **print()** function invokes an error message. "
      ]
    },
    {
      "cell_type": "code",
      "execution_count": null,
      "metadata": {
        "id": "otpC8BEbLLkJ"
      },
      "outputs": [],
      "source": [
        "print(nInput + 3)"
      ]
    },
    {
      "cell_type": "markdown",
      "metadata": {
        "id": "FaIP1_b4LLkL"
      },
      "source": [
        "The input need to be converted to an integer before the match operation can be performed as follows because the string data cannot add the integer data directly. They are totally different two types of data."
      ]
    },
    {
      "cell_type": "code",
      "execution_count": null,
      "metadata": {
        "id": "pe9Ey8M-LLkL"
      },
      "outputs": [],
      "source": [
        "print(int(nInput) + 3)"
      ]
    },
    {
      "cell_type": "markdown",
      "metadata": {
        "id": "hWChILEcLLkP"
      },
      "source": [
        "After user's input are accepted, the messages need to be displayed to the user accordingly. String concatenation is one way to display messages which incorporate variable values. "
      ]
    },
    {
      "cell_type": "code",
      "execution_count": null,
      "metadata": {
        "id": "UBLRtd-kLLkP"
      },
      "outputs": [],
      "source": [
        "name = 'David'\n",
        "print('Hello, ' + name)"
      ]
    },
    {
      "cell_type": "markdown",
      "metadata": {
        "id": "OyEkpA3mLLkR"
      },
      "source": [
        "Another way of achieving this is using **print()** function with *string formatting*. We need to use the *string formatting operator*, the percent(**%**) sign. "
      ]
    },
    {
      "cell_type": "code",
      "execution_count": null,
      "metadata": {
        "id": "33qCABY9LLkS"
      },
      "outputs": [],
      "source": [
        "name = 'David'\n",
        "print('Hello, %s' % name)"
      ]
    },
    {
      "cell_type": "markdown",
      "metadata": {
        "id": "UvuFlcAcLLkW"
      },
      "source": [
        "Here is another example with two variables:"
      ]
    },
    {
      "cell_type": "code",
      "execution_count": null,
      "metadata": {
        "id": "-cFfoUp5LLkX"
      },
      "outputs": [],
      "source": [
        "name = 'David'\n",
        "age = 23\n",
        "print('%s is %d years old.' % (name, age))"
      ]
    },
    {
      "cell_type": "markdown",
      "metadata": {
        "id": "MZQSERheLLkl"
      },
      "source": [
        "Notice that the two variables, **name**, **age**, that specify the values are included at the end of the statement, and enclosed with a bracket. \n",
        "\n",
        "With the quotation mark,  **%s** and **%d** are used to specify formatting for string and integer respectively. \n",
        "The following table shows a selected set of symbols which can be used along with %. "
      ]
    },
    {
      "cell_type": "markdown",
      "metadata": {
        "id": "1wKLT4k4LLkl"
      },
      "source": [
        "<table width=\"304\" border=\"1\">\n",
        "  <tr>\n",
        "    <th width=\"112\" scope=\"col\">Format symbol</th>\n",
        "    <th width=\"176\" scope=\"col\">Conversion</th>\n",
        "  </tr>\n",
        "  <tr>\n",
        "    <td>%s</td>\n",
        "    <td>String</td>\n",
        "  </tr>\n",
        "  <tr>\n",
        "    <td>%d</td>\n",
        "    <td>Signed decimal integer</td>\n",
        "  </tr>\n",
        "  <tr>\n",
        "    <td>%f</td>\n",
        "    <td>Floating point real number</td>\n",
        "  </tr>\n",
        "</table>"
      ]
    },
    {
      "cell_type": "markdown",
      "metadata": {
        "id": "Q0_RdlHALLkm"
      },
      "source": [
        "There are extra characters that are used together with above symbols:"
      ]
    },
    {
      "cell_type": "markdown",
      "metadata": {
        "id": "iaQEU8mCLLkm"
      },
      "source": [
        "<table width=\"400\" border=\"1\">\n",
        "  <tr>\n",
        "    <th width=\"100\" scope=\"col\">Symbol</th>\n",
        "    <th width=\"3000\" scope=\"col\">Functionality</th>\n",
        "  </tr>\n",
        "  <tr>\n",
        "    <td>-</td>\n",
        "    <td>Left justification</td>\n",
        "  </tr>\n",
        "  <tr>\n",
        "    <td>+</td>\n",
        "    <td>Display the sign</td>\n",
        "  </tr>\n",
        "  <tr>\n",
        "    <td>m.n</td>\n",
        "    <td>m is the minimum total width; n is the number of digits to display after the decimal point</td>\n",
        "  </tr>\n",
        "</table>"
      ]
    },
    {
      "cell_type": "markdown",
      "metadata": {
        "id": "jfsOdi7pLLkn"
      },
      "source": [
        "Here are  more examples that use above specifiers:"
      ]
    },
    {
      "cell_type": "code",
      "execution_count": null,
      "metadata": {
        "id": "9CSC_2NOLLkn"
      },
      "outputs": [],
      "source": [
        "# With %f, the format is right justification by default. \n",
        "# As a result, white spaces are added to the left of the number\n",
        "# 10.4 means minimal width 10 with 4 decimal points\n",
        "print('Output a float number: %10.4f' % (3.5))"
      ]
    },
    {
      "cell_type": "code",
      "execution_count": null,
      "metadata": {
        "id": "FeXQfC1OLLkq"
      },
      "outputs": [],
      "source": [
        "# plus sign after % means to show positive sign\n",
        "# Zero after plus sign means using leading zero to fill width of 5\n",
        "print('Output an integer: %+05d' % (23))"
      ]
    }
  ],
  "metadata": {
    "colab": {
      "collapsed_sections": [],
      "name": "M02C-DataTypes.ipynb",
      "provenance": []
    },
    "kernelspec": {
      "display_name": "Python 3",
      "language": "python",
      "name": "python3"
    },
    "language_info": {
      "codemirror_mode": {
        "name": "ipython",
        "version": 3
      },
      "file_extension": ".py",
      "mimetype": "text/x-python",
      "name": "python",
      "nbconvert_exporter": "python",
      "pygments_lexer": "ipython3",
      "version": "3.6.4"
    }
  },
  "nbformat": 4,
  "nbformat_minor": 0
}